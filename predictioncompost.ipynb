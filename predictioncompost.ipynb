{
 "cells": [
  {
   "cell_type": "code",
   "execution_count": null,
   "id": "c8f200c8-eb91-42c8-9cab-c00623041606",
   "metadata": {},
   "outputs": [],
   "source": [
    "import joblib\n",
    "import pandas as pd\n",
    "\n",
    "\n",
    "model = joblib.load('compost_classification_model.pkl')\n",
    "\n",
    "\n",
    "def predict_compost_type(input_data):\n",
    "    prediction = model.predict([input_data])\n",
    "    print(f\"Predicted Compost Type: {prediction[0]}\")\n",
    "    return prediction[0]\n",
    "\n",
    "\n",
    "sample_input = [35, 45, 6.5, 78]  \n",
    "predict_compost_type(sample_input)\n"
   ]
  }
 ],
 "metadata": {
  "kernelspec": {
   "display_name": "Python 3 (ipykernel)",
   "language": "python",
   "name": "python3"
  },
  "language_info": {
   "codemirror_mode": {
    "name": "ipython",
    "version": 3
   },
   "file_extension": ".py",
   "mimetype": "text/x-python",
   "name": "python",
   "nbconvert_exporter": "python",
   "pygments_lexer": "ipython3",
   "version": "3.12.4"
  }
 },
 "nbformat": 4,
 "nbformat_minor": 5
}
